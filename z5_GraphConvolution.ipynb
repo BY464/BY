{
  "cells": [
    {
      "cell_type": "markdown",
      "metadata": {
        "id": "view-in-github",
        "colab_type": "text"
      },
      "source": [
        "<a href=\"https://colab.research.google.com/github/StillWork/AIDD-LAIDD/blob/main/z5_GraphConvolution.ipynb\" target=\"_parent\"><img src=\"https://colab.research.google.com/assets/colab-badge.svg\" alt=\"Open In Colab\"/></a>"
      ]
    },
    {
      "cell_type": "markdown",
      "metadata": {
        "id": "ubFUlqz8cj1L"
      },
      "source": [
        "# Graph Neural Network\n",
        "\n",
        "- 분자의 표현형으로 그래프를 사용\n",
        "- 분자의 동작을 그래프 컨볼류션 네트워크로 모델링 하는 방법"
      ]
    },
    {
      "cell_type": "markdown",
      "metadata": {
        "id": "GiKLF00rPF94"
      },
      "source": [
        "## 분자의 그래프 표현형\n"
      ]
    },
    {
      "cell_type": "markdown",
      "metadata": {
        "id": "mqo-BMQ2PF94"
      },
      "source": [
        "- 분자 표현형: SMILES(문자열), Descriptors(테이블), Fingerprint(비트 벡터), Graph\n",
        "\n",
        "- Graph:\n",
        "\n",
        "<img src=\"https://github.com/StillWork/image/blob/main/%E1%84%89%E1%85%B3%E1%84%8F%E1%85%B3%E1%84%85%E1%85%B5%E1%86%AB%E1%84%89%E1%85%A3%E1%86%BA%202022-11-26%20%E1%84%8B%E1%85%A9%E1%84%92%E1%85%AE%206.38.50.png?raw=1\" width=600>\n",
        "\n",
        "- Adjacency Matrix와 Feature Matrix로 표현 \n",
        "\n",
        "<img src=\"https://github.com/StillWork/image/blob/main/%E1%84%89%E1%85%B3%E1%84%8F%E1%85%B3%E1%84%85%E1%85%B5%E1%86%AB%E1%84%89%E1%85%A3%E1%86%BA%202022-11-26%20%E1%84%8B%E1%85%A9%E1%84%92%E1%85%AE%206.39.52.png?raw=1\" width=600>"
      ]
    },
    {
      "cell_type": "markdown",
      "metadata": {
        "id": "7YOuOaLjPF95"
      },
      "source": [
        "- 분자의 그래프 표현형\n",
        "\n",
        " - 각 원자의 속성을 나타내는 feature 벡터가 있고 이들로부터 구성된 feature matrix를 정의한다\n",
        " - 각 원자들의 연결 정보를 나타내는 adjacency matrix를 정의한다\n",
        "\n",
        "<img src=\"https://github.com/StillWork/image/blob/main/Representation-of-a-molecule-as-a-multi-channel-multi-attribute-graph-The-molecule.png?raw=1\" align='left'  width=350>"
      ]
    },
    {
      "cell_type": "markdown",
      "source": [
        "<img src=\"https://github.com/StillWork/image/blob/main/%E1%84%89%E1%85%B3%E1%84%8F%E1%85%B3%E1%84%85%E1%85%B5%E1%86%AB%E1%84%89%E1%85%A3%E1%86%BA%202022-11-26%20%E1%84%8B%E1%85%A9%E1%84%92%E1%85%AE%207.16.49.png?raw=1\"  width=600>"
      ],
      "metadata": {
        "id": "mRWs7LMlcnw8"
      }
    },
    {
      "cell_type": "markdown",
      "metadata": {
        "id": "BX2erW0ncj1W"
      },
      "source": [
        "## Graph Convolution Network\n",
        "\n",
        "- 일반 CNN\n",
        " - 이미지나 시계열의 패턴 분석에 널리 사용된다\n",
        " - 신호가 주변의 샘플들과 같이 필터를 통과하면서 어떤 추상적인 패턴을 추출한다\n",
        " - 컨볼류션 계층을 여러번 통과하면서 점차 추상적인 패턴을 찾는다 \n",
        " - 풀링(max pooling)을 수행하여 패턴신호(특성)의 공간적인 이동과 정보 축약을 수행한다\n",
        " - [CNN 개요](https://medium.com/@ricardo_fideles/dog-breed-classification-with-cnn-827963a67bdf), [이미지 필터링](https://setosa.io/ev/image-kernels/), [CNN 동작 설명](https://transcranial.github.io/keras-js/#/mnist-cnn)\n",
        "\n",
        "- 그래프 컨볼류션\n",
        " - 일반 CNN과 달리 그래프로 표현된 입력을 대상으로 동작한다\n",
        " - 주변 샘플 전체가 아니라 그래프로 연결된 샘플들만 사용하여 컨볼류션과 풀링을 수행한다\n",
        " - [Distill GCN](https://distill.pub/2021/gnn-intro/)\n",
        " - [블로그](https://ai.plainenglish.io/graph-convolutional-networks-gcn-baf337d5cb6b)\n",
        "\n",
        "<img src=\"https://github.com/StillWork/image/blob/main/%E1%84%89%E1%85%B3%E1%84%8F%E1%85%B3%E1%84%85%E1%85%B5%E1%86%AB%E1%84%89%E1%85%A3%E1%86%BA%202022-11-26%20%E1%84%8B%E1%85%A9%E1%84%92%E1%85%AE%206.40.46.png?raw=1\" width=500>"
      ]
    },
    {
      "cell_type": "markdown",
      "source": [
        "- Graph Convolution\n",
        "\n",
        "<img src=\"https://github.com/StillWork/image/blob/main/%E1%84%89%E1%85%B3%E1%84%8F%E1%85%B3%E1%84%85%E1%85%B5%E1%86%AB%E1%84%89%E1%85%A3%E1%86%BA%202022-11-26%20%E1%84%8B%E1%85%A9%E1%84%92%E1%85%AE%206.41.35.png?raw=1\" width=600>\n",
        "\n",
        "- Convolution layers\n",
        "\n",
        "<img src=\"https://github.com/StillWork/image/blob/main/%E1%84%89%E1%85%B3%E1%84%8F%E1%85%B3%E1%84%85%E1%85%B5%E1%86%AB%E1%84%89%E1%85%A3%E1%86%BA%202022-11-26%20%E1%84%8B%E1%85%A9%E1%84%92%E1%85%AE%207.17.30.png?raw=1\"   width=700>\n",
        "\n",
        "\n",
        "- Graph Pooling\n",
        "\n",
        "<img src=\"https://github.com/StillWork/image/blob/main/%E1%84%89%E1%85%B3%E1%84%8F%E1%85%B3%E1%84%85%E1%85%B5%E1%86%AB%E1%84%89%E1%85%A3%E1%86%BA%202022-11-26%20%E1%84%8B%E1%85%A9%E1%84%92%E1%85%AE%206.41.16.png?raw=1\" width=400>"
      ],
      "metadata": {
        "id": "haAkNgpfaw3y"
      }
    },
    {
      "cell_type": "markdown",
      "metadata": {
        "id": "goPHtZOpPF95"
      },
      "source": [
        "# import"
      ]
    },
    {
      "cell_type": "code",
      "execution_count": 1,
      "metadata": {
        "colab": {
          "base_uri": "https://localhost:8080/"
        },
        "collapsed": true,
        "id": "kjV9i-oafgBx",
        "outputId": "c2d9f7cb-5a4a-4557-b47d-3d44da1c14f5"
      },
      "outputs": [
        {
          "output_type": "stream",
          "name": "stdout",
          "text": [
            "Looking in indexes: https://pypi.org/simple, https://us-python.pkg.dev/colab-wheels/public/simple/\n",
            "Collecting deepchem\n",
            "  Downloading deepchem-2.6.1-py3-none-any.whl (608 kB)\n",
            "\u001b[K     |████████████████████████████████| 608 kB 22.4 MB/s \n",
            "\u001b[?25hRequirement already satisfied: numpy>=1.21 in /usr/local/lib/python3.7/dist-packages (from deepchem) (1.21.6)\n",
            "Collecting rdkit-pypi\n",
            "  Downloading rdkit_pypi-2022.9.2-cp37-cp37m-manylinux_2_17_x86_64.manylinux2014_x86_64.whl (29.1 MB)\n",
            "\u001b[K     |████████████████████████████████| 29.1 MB 1.7 MB/s \n",
            "\u001b[?25hRequirement already satisfied: pandas in /usr/local/lib/python3.7/dist-packages (from deepchem) (1.3.5)\n",
            "Requirement already satisfied: scikit-learn in /usr/local/lib/python3.7/dist-packages (from deepchem) (1.0.2)\n",
            "Requirement already satisfied: scipy in /usr/local/lib/python3.7/dist-packages (from deepchem) (1.7.3)\n",
            "Requirement already satisfied: joblib in /usr/local/lib/python3.7/dist-packages (from deepchem) (1.2.0)\n",
            "Requirement already satisfied: pytz>=2017.3 in /usr/local/lib/python3.7/dist-packages (from pandas->deepchem) (2022.6)\n",
            "Requirement already satisfied: python-dateutil>=2.7.3 in /usr/local/lib/python3.7/dist-packages (from pandas->deepchem) (2.8.2)\n",
            "Requirement already satisfied: six>=1.5 in /usr/local/lib/python3.7/dist-packages (from python-dateutil>=2.7.3->pandas->deepchem) (1.15.0)\n",
            "Requirement already satisfied: Pillow in /usr/local/lib/python3.7/dist-packages (from rdkit-pypi->deepchem) (7.1.2)\n",
            "Requirement already satisfied: threadpoolctl>=2.0.0 in /usr/local/lib/python3.7/dist-packages (from scikit-learn->deepchem) (3.1.0)\n",
            "Installing collected packages: rdkit-pypi, deepchem\n",
            "Successfully installed deepchem-2.6.1 rdkit-pypi-2022.9.2\n"
          ]
        }
      ],
      "source": [
        "!pip install deepchem\n",
        "import deepchem as dc"
      ]
    },
    {
      "cell_type": "code",
      "execution_count": 2,
      "metadata": {
        "id": "c3CcVfP7mwWJ"
      },
      "outputs": [],
      "source": [
        "import pandas as pd\n",
        "import numpy as np\n",
        "import matplotlib\n",
        "import matplotlib.pyplot as plt\n",
        "%matplotlib inline\n",
        "%config InlineBackend.figure_format = 'retina'\n",
        "import warnings\n",
        "warnings.filterwarnings(\"ignore\")\n",
        "\n",
        "from rdkit import Chem\n",
        "from rdkit.Chem import AllChem\n",
        "from rdkit.Chem import Draw\n",
        "from rdkit.Chem.Draw import IPythonConsole\n",
        "from rdkit.Chem import Descriptors\n",
        "from rdkit import DataStructs\n",
        "import tensorflow as tf\n",
        "\n",
        "from deepchem.feat.mol_graphs import ConvMol\n",
        "from deepchem.models.layers import GraphConv, GraphPool, GraphGather\n",
        "from deepchem.models.graph_models import GraphConvModel\n",
        "from sklearn.metrics import mean_absolute_error, r2_score, mean_squared_error\n",
        "\n",
        "from deepchem.metrics import to_one_hot\n",
        "from deepchem.utils.data_utils import load_from_disk\n",
        "import tensorflow.keras.layers as layers"
      ]
    },
    {
      "cell_type": "markdown",
      "metadata": {
        "id": "J4PR4Xr2PF96"
      },
      "source": [
        "# 회귀 모델\n",
        "\n",
        "- logP 예측\n",
        " - 알려진 실제 화합물의 분배계수로부터,유사한 화합물의 분배계수를 예측하는 데 사용"
      ]
    },
    {
      "cell_type": "code",
      "execution_count": null,
      "metadata": {
        "id": "Bht1jQIMwyZC",
        "outputId": "20922caa-facf-4d33-a4aa-f1caa36f8211",
        "colab": {
          "base_uri": "https://localhost:8080/"
        }
      },
      "outputs": [
        {
          "output_type": "stream",
          "name": "stdout",
          "text": [
            "(14610, 2)\n"
          ]
        }
      ],
      "source": [
        "# 데이터 다운로드\n",
        "logP_data = pd.read_csv('https://raw.githubusercontent.com/StillWork/data/master/logP_dataset.csv', names=['smiles', 'logP'])\n",
        "print(logP_data.shape)\n",
        "\n",
        "# csv 파일로 저장\n",
        "logP_data[:4000].to_csv('logP.csv')\n",
        "# logP_data.to_csv('logP.csv')\n",
        "\n",
        "# 표현형을 그래프 표현형인 ConvMol로 선택\n",
        "featurizer = dc.feat.ConvMolFeaturizer()\n",
        "\n",
        "# loader로 CSVLoader를 사용하면서 X, y, 표현형 등을 정의\n",
        "loader = dc.data.CSVLoader(tasks=[\"logP\"], feature_field=\"smiles\",featurizer=featurizer)\n",
        "dataset = loader.create_dataset('logP.csv')"
      ]
    },
    {
      "cell_type": "code",
      "source": [
        "dataset.X.shape"
      ],
      "metadata": {
        "id": "tB_hwgG8k8ih"
      },
      "execution_count": null,
      "outputs": []
    },
    {
      "cell_type": "code",
      "execution_count": null,
      "metadata": {
        "id": "pu69fc-50QX4"
      },
      "outputs": [],
      "source": [
        "# Splitter 선택\n",
        "splitter = dc.splits.RandomSplitter()\n",
        "# splitter = dc.splits.ScaffoldSplitter()\n",
        "train_dataset, valid_dataset, test_dataset = splitter.train_valid_test_split(dataset)\n",
        "\n",
        "from deepchem.models.graph_models import GraphConvModel\n",
        "model = GraphConvModel(n_tasks=1, mode='regression', batch_size=50, \n",
        "                       model_dir=\"./logP\", random_seed=0)"
      ]
    },
    {
      "cell_type": "markdown",
      "metadata": {
        "id": "JCE7ZGSwPF96"
      },
      "source": [
        "## 모델 학습"
      ]
    },
    {
      "cell_type": "code",
      "execution_count": null,
      "metadata": {
        "id": "3prZfNU-PF96"
      },
      "outputs": [],
      "source": [
        "model.fit(train_dataset, nb_epoch=50)"
      ]
    },
    {
      "cell_type": "markdown",
      "source": [
        "## 백업된 모델 가져오기"
      ],
      "metadata": {
        "id": "maeTp8jztUxs"
      }
    },
    {
      "cell_type": "code",
      "source": [
        "# from google.colab import drive\n",
        "# drive.mount('/content/drive')"
      ],
      "metadata": {
        "id": "sq7qSg_qrjp_"
      },
      "execution_count": null,
      "outputs": []
    },
    {
      "cell_type": "code",
      "source": [
        "# model = GraphConvModel(n_tasks=1, mode='regression', \n",
        "#                        model_dir=\"/content/drive/MyDrive/logP\")\n",
        "# model.restore()"
      ],
      "metadata": {
        "id": "-b4aBZSWrjLR"
      },
      "execution_count": null,
      "outputs": []
    },
    {
      "cell_type": "markdown",
      "source": [
        "# 예측 결과 보기"
      ],
      "metadata": {
        "id": "VSV2UjaneDl0"
      }
    },
    {
      "cell_type": "code",
      "source": [
        "def show_reg_result(y_test, y_pred, N=50):\n",
        "    mae = mean_absolute_error(y_test, y_pred)\n",
        "    rmse = mean_squared_error(y_test, y_pred, squared=False)\n",
        "    R2 = r2_score(y_test, y_pred)\n",
        "    max_err = np.abs(y_test - y_pred).max()\n",
        "    \n",
        "    print('R2:', round(R2,4))\n",
        "    print('MAE:', round(mae, 4))\n",
        "    print('RMSE:', round(rmse,4))\n",
        "    print('Max error:', round(max_err, 4))\n",
        "\n",
        "    # 일부 실제값과 예측값 샘플을 plot으로 비교하여 그려본다 (N 개)\n",
        "    \n",
        "    if N > 0:\n",
        "      plt.figure(figsize=(10, 6))\n",
        "      plt.plot(y_pred[:N], \".b-\", label=\"prediction\", linewidth=1.0)\n",
        "      plt.plot(y_test[:N], '.r-', label=\"actual\", linewidth=1.0)\n",
        "      plt.legend()\n",
        "      plt.ylabel('logP')\n",
        "      plt.show()  "
      ],
      "metadata": {
        "id": "Rzt2Or1SmMsV"
      },
      "execution_count": null,
      "outputs": []
    },
    {
      "cell_type": "code",
      "execution_count": null,
      "metadata": {
        "id": "Hx5S-MNJ3X-X"
      },
      "outputs": [],
      "source": [
        "y_pred = model.predict(test_dataset)\n",
        "show_reg_result(test_dataset.y, y_pred)"
      ]
    },
    {
      "cell_type": "code",
      "execution_count": null,
      "metadata": {
        "id": "Cs9JQOlWNleo",
        "collapsed": true
      },
      "outputs": [],
      "source": [
        "# 20개 샘플만 예측해보기 \n",
        "\n",
        "solubilities = model.predict_on_batch(test_dataset.X[:20])\n",
        "for molecule, solubility, test_solubility in zip(test_dataset.ids, solubilities, test_dataset.y):\n",
        "    print(solubility, test_solubility, molecule)"
      ]
    },
    {
      "cell_type": "markdown",
      "metadata": {
        "id": "h7ihGtAyNzF3"
      },
      "source": [
        "## 모델 적용\n",
        "- 임의의 샘플에 적용해보기"
      ]
    },
    {
      "cell_type": "code",
      "execution_count": null,
      "metadata": {
        "id": "uBXWWVAQNujP"
      },
      "outputs": [],
      "source": [
        "smiles = ['COC(C)(C)CCCC(C)CC=CC(C)=CC(=O)OC(C)C',\n",
        "          'CCOC(=O)CC',\n",
        "          'CSc1nc(NC(C)C)nc(NC(C)C)n1',\n",
        "          'CC(C#C)N(C)C(=O)Nc1ccc(Cl)cc1',\n",
        "          'Cc1cc2ccccc2cc1C']\n",
        "mols = [Chem.MolFromSmiles(s) for s in smiles]\n",
        "featurizer = dc.feat.ConvMolFeaturizer()\n",
        "x = featurizer.featurize(mols)\n",
        "predicted_solubility = model.predict_on_batch(x)\n",
        "for m,s in zip(smiles, predicted_solubility):\n",
        "    print()\n",
        "    print('Molecule:', m)\n",
        "    print('Predicted solubility:', s)"
      ]
    },
    {
      "cell_type": "markdown",
      "metadata": {
        "id": "zw7zWgv8OZZi"
      },
      "source": [
        "# ConvMol  구조\n",
        "- 분자의 그래프 표현형"
      ]
    },
    {
      "cell_type": "code",
      "execution_count": null,
      "metadata": {
        "id": "PfQ5J__AOdzE"
      },
      "outputs": [],
      "source": [
        "x[1]"
      ]
    },
    {
      "cell_type": "code",
      "execution_count": null,
      "metadata": {
        "id": "Mgw68wrvOjL5"
      },
      "outputs": [],
      "source": [
        "# 두번째 분자 보기\n",
        "mol = Chem.MolFromSmiles(\"CCOC(=O)CC\")\n",
        "mol"
      ]
    },
    {
      "cell_type": "code",
      "execution_count": null,
      "metadata": {
        "id": "qsrXmt4tOmdR"
      },
      "outputs": [],
      "source": [
        "# ConvMol 특성의 구조 (원자가 7이고, 특성 벡터수가 75임)\n",
        "x[1].atom_features.shape"
      ]
    },
    {
      "cell_type": "code",
      "execution_count": null,
      "metadata": {
        "id": "TIJP5NJZOooE"
      },
      "outputs": [],
      "source": [
        "x[1].get_atom_features()"
      ]
    },
    {
      "cell_type": "code",
      "execution_count": null,
      "metadata": {
        "id": "-6hzrVTuOrEU"
      },
      "outputs": [],
      "source": [
        "# 7개 원자의 인접 노드 번호들 보기\n",
        "x[1].get_adjacency_list()"
      ]
    },
    {
      "cell_type": "markdown",
      "metadata": {
        "id": "WlgWqOz0AByR"
      },
      "source": [
        "# 분류 모델\n",
        "\n",
        "- tox21 데이터 사용\n",
        "- featurizer='GraphConv' 적용"
      ]
    },
    {
      "cell_type": "code",
      "execution_count": null,
      "metadata": {
        "id": "JMi2V8Jncj1W"
      },
      "outputs": [],
      "source": [
        "tasks, datasets, transformers = dc.molnet.load_tox21(featurizer='GraphConv')\n",
        "train_dataset, valid_dataset, test_dataset = datasets"
      ]
    },
    {
      "cell_type": "markdown",
      "metadata": {
        "id": "d2f1PekXPhEd"
      },
      "source": [
        "## 모델 정의, 학습, 평가\n",
        "- GraphConvModel 모델 사용\n",
        "- 기본 모델 구조를 사용한다"
      ]
    },
    {
      "cell_type": "code",
      "execution_count": null,
      "metadata": {
        "id": "Y9n3jTNHcj1a"
      },
      "outputs": [],
      "source": [
        "n_tasks = len(tasks)\n",
        "model = dc.models.GraphConvModel(n_tasks, mode='classification')\n",
        "model.fit(train_dataset, nb_epoch=50)\n",
        "metric1 = dc.metrics.Metric(dc.metrics.roc_auc_score)\n",
        "metric2 = dc.metrics.Metric(dc.metrics.accuracy_score)\n",
        "print('Training set score:', model.evaluate(train_dataset, [metric1, metric2], transformers))\n",
        "print('Test set score:', model.evaluate(test_dataset, [metric1, metric2], transformers))"
      ]
    },
    {
      "cell_type": "markdown",
      "metadata": {
        "id": "l-LBxrKN6CMs"
      },
      "source": [
        "# (참고) GCN 직접 구현\n",
        "\n",
        "-  `GraphConv` layer: 그래프 컨볼류션을 수행 \n",
        "- `GraphPool` layer: 주변 노드의 특성 벡터로부터 max-pooling을 수행\n",
        "\n",
        "- `GraphGather`: 노드(원자) 단위의 특성을 수집하여 그래프 단위(분자)의 특성을 계산: a graph level feature vector \n",
        "\n",
        "- 이외에 [Dense](https://keras.io/api/layers/core_layers/dense/), [BatchNormalization](https://keras.io/api/layers/normalization_layers/batch_normalization/), [Softmax](https://keras.io/api/layers/activation_layers/softmax/) 를 사용한다"
      ]
    },
    {
      "cell_type": "code",
      "execution_count": null,
      "metadata": {
        "id": "71_E0CAUcj1n"
      },
      "outputs": [],
      "source": [
        "batch_size = 100\n",
        "\n",
        "class MyGraphConvModel(tf.keras.Model):\n",
        "\n",
        "  def __init__(self):\n",
        "    super(MyGraphConvModel, self).__init__()\n",
        "    self.gc1 = GraphConv(128, activation_fn=tf.nn.tanh)\n",
        "    self.batch_norm1 = layers.BatchNormalization()\n",
        "    self.gp1 = GraphPool()\n",
        "\n",
        "    self.gc2 = GraphConv(128, activation_fn=tf.nn.tanh)\n",
        "    self.batch_norm2 = layers.BatchNormalization()\n",
        "    self.gp2 = GraphPool()\n",
        "\n",
        "    self.dense1 = layers.Dense(256, activation=tf.nn.tanh)\n",
        "    self.batch_norm3 = layers.BatchNormalization()\n",
        "    self.readout = GraphGather(batch_size=batch_size, activation_fn=tf.nn.tanh)\n",
        "\n",
        "    self.dense2 = layers.Dense(n_tasks*2)\n",
        "    self.logits = layers.Reshape((n_tasks, 2))\n",
        "    self.softmax = layers.Softmax()\n",
        "\n",
        "  def call(self, inputs):\n",
        "    gc1_output = self.gc1(inputs)\n",
        "    batch_norm1_output = self.batch_norm1(gc1_output)\n",
        "    gp1_output = self.gp1([batch_norm1_output] + inputs[1:])\n",
        "\n",
        "    gc2_output = self.gc2([gp1_output] + inputs[1:])\n",
        "    batch_norm2_output = self.batch_norm1(gc2_output)\n",
        "    gp2_output = self.gp2([batch_norm2_output] + inputs[1:])\n",
        "\n",
        "    dense1_output = self.dense1(gp2_output)\n",
        "    batch_norm3_output = self.batch_norm3(dense1_output)\n",
        "    readout_output = self.readout([batch_norm3_output] + inputs[1:])\n",
        "\n",
        "    logits_output = self.logits(self.dense2(readout_output))\n",
        "    return self.softmax(logits_output)"
      ]
    },
    {
      "cell_type": "code",
      "execution_count": null,
      "metadata": {
        "id": "31Wr0t2zcj1q"
      },
      "outputs": [],
      "source": [
        "# 케라스 모델 사용\n",
        "gcn_model = dc.models.KerasModel(MyGraphConvModel(), loss=dc.models.losses.CategoricalCrossEntropy())"
      ]
    },
    {
      "cell_type": "code",
      "execution_count": null,
      "metadata": {
        "id": "qa4rAZYgWfjz"
      },
      "outputs": [],
      "source": [
        "# 입력은 ConvMol 타입임\n",
        "test_dataset.X[0]"
      ]
    },
    {
      "cell_type": "markdown",
      "metadata": {
        "id": "4nxJ5vYfV8kd"
      },
      "source": [
        "## 입력 데이터 생성자"
      ]
    },
    {
      "cell_type": "markdown",
      "metadata": {
        "id": "DVgGpFbUWfjz"
      },
      "source": [
        "- 모델은 ndarray 타입의 어레이를 사용하므로 `ConvMol` 객체로부터 X, y, w 를 생성해 주는 함수가 필요하다\n",
        "- 배치단위로 데이터를 생성해야 한다\n",
        "- 주요 변수:\n",
        " - `atom_features`: 각 원자에 대한 특성 표현 벡터이며 크기는 75이다. \n",
        " - `degree_slice`: 주어진 degree에 대해서 원자를 구분하는 인덱싱 \n",
        " - `membership`: 분자 내에서 원자의 멤버쉽을 정의 (atom `i` belongs to molecule `membership[i]`). `deg_adjs`: 특정 degree에 대한, 인접 원자 리스트\n",
        " \n",
        "- [구현 소스 코드](https://github.com/deepchem/deepchem/blob/master/deepchem/feat/mol_graphs.py)"
      ]
    },
    {
      "cell_type": "markdown",
      "metadata": {
        "id": "4vQbwm2fTDWR"
      },
      "source": [
        "- Data Generator\n",
        " - X, y, w를 계속 자동으로 생성해주는 함수 정의"
      ]
    },
    {
      "cell_type": "code",
      "execution_count": null,
      "metadata": {
        "id": "o-cPAG0I8Tc4"
      },
      "outputs": [],
      "source": [
        "def data_generator(dataset, epochs=1):\n",
        "  for ind, (X_b, y_b, w_b, ids_b) in enumerate(dataset.iterbatches(batch_size, \n",
        "              epochs, deterministic=False, pad_batches=True)):\n",
        "    multiConvMol = ConvMol.agglomerate_mols(X_b)\n",
        "    inputs = [multiConvMol.get_atom_features(), multiConvMol.deg_slice, \n",
        "              np.array(multiConvMol.membership)]\n",
        "              \n",
        "    for i in range(1, len(multiConvMol.get_deg_adjacency_lists())):\n",
        "      inputs.append(multiConvMol.get_deg_adjacency_lists()[i])\n",
        "    labels = [to_one_hot(y_b.flatten(), 2).reshape(-1, n_tasks, 2)]\n",
        "    weights = [w_b]\n",
        "    yield (inputs, labels, weights)"
      ]
    },
    {
      "cell_type": "markdown",
      "metadata": {
        "id": "VSTbjm9Hcj1v"
      },
      "source": [
        "- 모델을 훈련시키기 위해서 fit_generator(generator)를 사용한다\n",
        " - generator는 위에서 정의한 data_generator 함수가 생성해준다"
      ]
    },
    {
      "cell_type": "code",
      "execution_count": null,
      "metadata": {
        "id": "59WW4rhwcj1w"
      },
      "outputs": [],
      "source": [
        "# from re import VERBOSE\n",
        "gcn_model.fit_generator(data_generator(train_dataset, epochs=50))"
      ]
    },
    {
      "cell_type": "markdown",
      "metadata": {
        "id": "skrL9YEEcj13"
      },
      "source": [
        "## 성능 평가\n",
        "- 위에서 정의한 generator를 사용한다"
      ]
    },
    {
      "cell_type": "code",
      "execution_count": null,
      "metadata": {
        "id": "f3prNsgGcj14",
        "scrolled": true
      },
      "outputs": [],
      "source": [
        "print('Training set score:', gcn_model.evaluate_generator(data_generator(train_dataset), [metric1, metric2], transformers))\n",
        "print('Test set score:', gcn_model.evaluate_generator(data_generator(test_dataset), [metric1, metric2], transformers))"
      ]
    },
    {
      "cell_type": "code",
      "execution_count": null,
      "metadata": {
        "id": "a-hA71CqrVqR"
      },
      "outputs": [],
      "source": []
    }
  ],
  "metadata": {
    "accelerator": "GPU",
    "colab": {
      "provenance": [],
      "toc_visible": true,
      "include_colab_link": true
    },
    "kernelspec": {
      "display_name": "Python 3",
      "language": "python",
      "name": "python3"
    },
    "language_info": {
      "codemirror_mode": {
        "name": "ipython",
        "version": 3
      },
      "file_extension": ".py",
      "mimetype": "text/x-python",
      "name": "python",
      "nbconvert_exporter": "python",
      "pygments_lexer": "ipython3",
      "version": "3.8.8"
    },
    "toc": {
      "base_numbering": 1,
      "nav_menu": {},
      "number_sections": false,
      "sideBar": true,
      "skip_h1_title": false,
      "title_cell": "Table of Contents",
      "title_sidebar": "Contents",
      "toc_cell": false,
      "toc_position": {},
      "toc_section_display": true,
      "toc_window_display": true
    }
  },
  "nbformat": 4,
  "nbformat_minor": 0
}